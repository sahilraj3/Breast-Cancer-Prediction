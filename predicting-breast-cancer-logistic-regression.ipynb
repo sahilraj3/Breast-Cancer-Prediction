{
 "cells": [
  {
   "cell_type": "code",
   "execution_count": null,
   "metadata": {
    "_cell_guid": "695ad59e-69fa-4a0d-a59f-204856d2c71e",
    "_kg_hide-output": true,
    "_uuid": "578c081220dce5fb90e3622f1ff3adefcef70971"
   },
   "outputs": [],
   "source": [
    "# import dependencies\n",
    "# data cleaning and manipulation \n",
    "import pandas as pd\n",
    "import numpy as np\n",
    "\n",
    "# data visualization\n",
    "import matplotlib.pyplot as plt\n",
    "import seaborn as sns\n",
    "\n",
    "# machine learning\n",
    "from sklearn.preprocessing import StandardScaler\n",
    "\n",
    "import sklearn.linear_model as skl_lm\n",
    "from sklearn import preprocessing\n",
    "from sklearn import neighbors\n",
    "from sklearn.metrics import confusion_matrix, classification_report, precision_score\n",
    "from sklearn.model_selection import train_test_split\n",
    "\n",
    "\n",
    "import statsmodels.api as sm\n",
    "import statsmodels.formula.api as smf\n",
    "\n",
    "\n",
    "# initialize some package settings\n",
    "sns.set(style=\"whitegrid\", color_codes=True, font_scale=1.3)\n",
    "\n",
    "%matplotlib inline"
   ]
  },
  {
   "cell_type": "code",
   "execution_count": null,
   "metadata": {
    "_cell_guid": "bd98c087-a305-4d9b-b581-c6245fdc8f25",
    "_kg_hide-output": false,
    "_uuid": "15f3de69cbef86cf97c2bf2c97ebe9faadf007ee"
   },
   "outputs": [],
   "source": [
    "# read in the data and check the first 5 rows\n",
    "df = pd.read_csv('breast_cancer_data.csv', index_col=0)\n",
    "df"
   ]
  },
  {
   "cell_type": "code",
   "execution_count": null,
   "metadata": {
    "_cell_guid": "b9a68601-5b5e-4e77-920d-f98e61b8505c",
    "_uuid": "acea2d29a01413419f5add3309727781e10da197"
   },
   "outputs": [],
   "source": [
    "# general summary of the dataframe\n",
    "df.info()"
   ]
  },
  {
   "cell_type": "code",
   "execution_count": null,
   "metadata": {
    "_cell_guid": "4ba0851a-2cec-40fd-a0db-839f21b9fa62",
    "_kg_hide-output": true,
    "_uuid": "ac927ab4bbe80cc713a78109c725dbd67f81d342"
   },
   "outputs": [],
   "source": [
    "# remove the 'Unnamed: 32' column\n",
    "df = df.drop('Unnamed: 32', axis=1)"
   ]
  },
  {
   "cell_type": "code",
   "execution_count": null,
   "metadata": {
    "_cell_guid": "6a8e4ba0-2e31-4c13-8fa5-8b80aff8bb28",
    "_uuid": "58b11df84464de83ff281f440dd0cfca16535cea",
    "scrolled": false
   },
   "outputs": [],
   "source": [
    "# visualize distribution of classes \n",
    "plt.figure(figsize=(8, 4))\n",
    "sns.countplot(df['diagnosis'], palette='RdBu')\n",
    "\n",
    "# count number of obvs in each class\n",
    "benign, malignant = df['diagnosis'].value_counts()\n",
    "print('Number of cells labeled Benign: ', benign)\n",
    "print('Number of cells labeled Malignant : ', malignant)\n",
    "print('')\n",
    "print('% of cells labeled Benign', round(benign / len(df) * 100, 2), '%')\n",
    "print('% of cells labeled Malignant', round(malignant / len(df) * 100, 2), '%')"
   ]
  },
  {
   "cell_type": "code",
   "execution_count": null,
   "metadata": {},
   "outputs": [],
   "source": [
    "cols = ['diagnosis','radius_mean', \n",
    "        'texture_mean', \n",
    "        'perimeter_mean', \n",
    "        'area_mean', \n",
    "        'smoothness_mean']\n",
    "sns.set(style=\"ticks\", color_codes=True)\n",
    "g = sns.pairplot(df[cols], palette = ('b', 'r'), hue=\"diagnosis\", height=2.5)\n",
    "plt.show()"
   ]
  },
  {
   "cell_type": "code",
   "execution_count": null,
   "metadata": {
    "_cell_guid": "73c26323-0332-4872-be87-2cffb9b1fdea",
    "_uuid": "d1b40364190bcacae69a2cf84c3f096665b0f845",
    "scrolled": false
   },
   "outputs": [],
   "source": [
    "# Generate and visualize the correlation matrix\n",
    "corr = df.corr().round(2)\n",
    "\n",
    "# Mask for the upper triangle\n",
    "mask = np.zeros_like(corr, dtype=np.bool)\n",
    "mask[np.triu_indices_from(mask)] = True\n",
    "\n",
    "# Set figure size\n",
    "f, ax = plt.subplots(figsize=(20, 20))\n",
    "\n",
    "# Define custom colormap\n",
    "cmap = sns.diverging_palette(220, 10, as_cmap=True)\n",
    "\n",
    "# Draw the heatmap\n",
    "sns.heatmap(corr, mask=mask, cmap=cmap, vmin=-1, vmax=1, center=0,\n",
    "            square=True, linewidths=.5, cbar_kws={\"shrink\": .5}, annot=True)\n",
    "\n",
    "plt.tight_layout()"
   ]
  },
  {
   "cell_type": "code",
   "execution_count": null,
   "metadata": {
    "_cell_guid": "156ff174-a585-4eb6-9fbd-0c5861a6f439",
    "_uuid": "bac27000a23c99672fda30b7296c09fd3d67408e"
   },
   "outputs": [],
   "source": [
    "# first, drop all \"worst\" columns\n",
    "cols = ['radius_worst', \n",
    "        'texture_worst', \n",
    "        'perimeter_worst', \n",
    "        'area_worst', \n",
    "        'smoothness_worst', \n",
    "        'compactness_worst', \n",
    "        'concavity_worst',\n",
    "        'concave points_worst', \n",
    "        'symmetry_worst', \n",
    "        'fractal_dimension_worst']\n",
    "df = df.drop(cols, axis=1)\n",
    "\n",
    "# then, drop all columns related to the \"perimeter\" and \"area\" attributes\n",
    "cols = ['perimeter_mean',\n",
    "        'perimeter_se', \n",
    "        'area_mean', \n",
    "        'area_se']\n",
    "df = df.drop(cols, axis=1)\n",
    "\n",
    "# lastly, drop all columns related to the \"concavity\" and \"concave points\" attributes\n",
    "cols = ['concavity_mean',\n",
    "        'concavity_se', \n",
    "        'concave points_mean', \n",
    "        'concave points_se']\n",
    "df = df.drop(cols, axis=1)\n",
    "\n",
    "# verify remaining columns\n",
    "df.columns"
   ]
  },
  {
   "cell_type": "code",
   "execution_count": null,
   "metadata": {
    "_cell_guid": "a100b412-a601-4ef0-af1b-1a014328ec68",
    "_uuid": "95321bcfa9b6194fd49c3b5b9d9213e92d7796ce"
   },
   "outputs": [],
   "source": [
    "# Draw the heatmap again, with the new correlation matrix\n",
    "corr = df.corr().round(2)\n",
    "mask = np.zeros_like(corr, dtype=np.bool)\n",
    "mask[np.triu_indices_from(mask)] = True\n",
    "\n",
    "f, ax = plt.subplots(figsize=(20, 20))\n",
    "sns.heatmap(corr, mask=mask, cmap=cmap, vmin=-1, vmax=1, center=0,\n",
    "            square=True, linewidths=.5, cbar_kws={\"shrink\": .5}, annot=True)\n",
    "plt.tight_layout()"
   ]
  },
  {
   "cell_type": "markdown",
   "metadata": {
    "_cell_guid": "c3bce675-cd9c-430b-a0ca-a4ce202520dc",
    "_uuid": "e4b91c2bd3fc2ba46acd748611f90bc9f74c8dfc",
    "collapsed": true
   },
   "source": [
    "Looks great! Now let's move on to our model."
   ]
  },
  {
   "cell_type": "code",
   "execution_count": null,
   "metadata": {
    "_cell_guid": "81c5e78d-c9e4-4909-9470-88fbbccafa32",
    "_uuid": "28b92554ae77ea3283734acdc12e6944bae8d9ef"
   },
   "outputs": [],
   "source": [
    "# Split the data into training and testing sets\n",
    "X = df\n",
    "y = df['diagnosis']\n",
    "\n",
    "X_train, X_test, y_train, y_test = train_test_split(X, y, test_size=0.3, random_state=40)"
   ]
  },
  {
   "cell_type": "markdown",
   "metadata": {
    "_cell_guid": "9450c803-b233-4cfb-ab2b-1a8a0275d636",
    "_uuid": "858b842d2a95ba099241c04c9f6c22d1f95b9814"
   },
   "source": [
    "Now that we have split our data into appropriate sets, let's write down the formula to be used for the `logistic regression`."
   ]
  },
  {
   "cell_type": "code",
   "execution_count": null,
   "metadata": {
    "_cell_guid": "d5b377ee-4462-4bd7-9d51-9a6d4512bc66",
    "_uuid": "4af1f9baaee26a15b3db2259ebf3a6611431f92d",
    "scrolled": true
   },
   "outputs": [],
   "source": [
    "# Create a string for the formula\n",
    "cols = df.columns.drop('diagnosis')\n",
    "formula = 'diagnosis ~ ' + ' + '.join(cols)\n",
    "print(formula, '\\n')"
   ]
  },
  {
   "cell_type": "markdown",
   "metadata": {
    "_cell_guid": "7bf632a2-5111-40d3-a6f7-34adfd3f30e3",
    "_uuid": "a3094a7abf18202fd0eba832fa6213f3582f0497"
   },
   "source": [
    "The formula includes all of the variables that were finally selected at the end of the previous section. We will now run the `logistic regression` with this formula and take a look at the results."
   ]
  },
  {
   "cell_type": "code",
   "execution_count": null,
   "metadata": {
    "_cell_guid": "dbe16604-b13a-4c7c-bdf2-2e3ad0977f65",
    "_uuid": "90b8731f67bb6a8155cb44c97f17c53554f92336",
    "scrolled": false
   },
   "outputs": [],
   "source": [
    "# Run the model and report the results\n",
    "model = smf.glm(formula=formula, data=X_train, family=sm.families.Binomial())\n",
    "logistic_fit = model.fit()\n",
    "\n",
    "print(logistic_fit.summary())"
   ]
  },
  {
   "cell_type": "markdown",
   "metadata": {
    "_cell_guid": "9a634825-9bc6-4656-8f64-409ba722815d",
    "_uuid": "403131448aee247b990deb89e860664ce860a260"
   },
   "source": [
    "Great! In the next section, we will feed in the test data to this model to yield predictions of labels. Then, we will evaluate how accurately the model have predicted the data. "
   ]
  },
  {
   "cell_type": "code",
   "execution_count": null,
   "metadata": {
    "_cell_guid": "2b12d89a-417b-4e9e-8488-b4d72f3f2f58",
    "_uuid": "ad5ac6457c9f3389d3ef0545597d21e1dcf92475"
   },
   "outputs": [],
   "source": [
    "# predict the test data and show the first 5 predictions\n",
    "predictions = logistic_fit.predict(X_test)\n",
    "predictions[1:6]"
   ]
  },
  {
   "cell_type": "code",
   "execution_count": null,
   "metadata": {
    "_cell_guid": "08edda96-9f39-4edc-943e-76dc7d9d6bd3",
    "_uuid": "837a08b171d11107ad1b5681906352692fa335d7",
    "scrolled": true
   },
   "outputs": [],
   "source": [
    "# Note how the values are numerical. \n",
    "# Convert these probabilities into nominal values and check the first 5 predictions again.\n",
    "predictions_nominal = [ \"M\" if x < 0.5 else \"B\" for x in predictions]\n",
    "predictions_nominal[1:6]"
   ]
  },
  {
   "cell_type": "code",
   "execution_count": null,
   "metadata": {
    "_cell_guid": "7d1d4482-8f8a-44a5-b82b-6a6154201ec8",
    "_uuid": "6c9368e32cb571f6443283107b5936966aee4860",
    "scrolled": false
   },
   "outputs": [],
   "source": [
    "print(classification_report(y_test, predictions_nominal, digits=3))\n",
    "\n",
    "cfm = confusion_matrix(y_test, predictions_nominal)\n",
    "\n",
    "true_negative = cfm[0][0]\n",
    "false_positive = cfm[0][1]\n",
    "false_negative = cfm[1][0]\n",
    "true_positive = cfm[1][1]\n",
    "\n",
    "print('Confusion Matrix: \\n', cfm, '\\n')\n",
    "\n",
    "print('True Negative:', true_negative)\n",
    "print('False Positive:', false_positive)\n",
    "print('False Negative:', false_negative)\n",
    "print('True Positive:', true_positive)\n",
    "print('Correct Predictions', \n",
    "      round((true_negative + true_positive) / len(predictions_nominal) * 100, 1), '%')"
   ]
  }
 ],
 "metadata": {
  "kernelspec": {
   "display_name": "Python 3",
   "language": "python",
   "name": "python3"
  },
  "language_info": {
   "codemirror_mode": {
    "name": "ipython",
    "version": 3
   },
   "file_extension": ".py",
   "mimetype": "text/x-python",
   "name": "python",
   "nbconvert_exporter": "python",
   "pygments_lexer": "ipython3",
   "version": "3.7.4"
  }
 },
 "nbformat": 4,
 "nbformat_minor": 1
}
